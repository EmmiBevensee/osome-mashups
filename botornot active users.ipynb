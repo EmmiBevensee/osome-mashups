{
 "cells": [
  {
   "cell_type": "markdown",
   "metadata": {},
   "source": [
    "# OSoMe + BotOrNot mashup\n",
    "by [Clayton A Davis](http://www.clayadavis.net)\n",
    "\n",
    "This notebook shows how to use the [OSoMe](http://osome.iuni.iu.edu/) (pronounced \"awesome\") and [BotOrNot](http://truthy.indiana.edu/botornot) APIs together to achieve a task impossible with either alone.\n",
    "\n",
    "To run this demo, you need some familiarity with the Python progamming language. To ensure access to all required packages, we encourage use of the [Anaconda](https://docs.continuum.io/anaconda/install) Python distribution. Your mileage with other Python distributions may vary. This code is provided as-is, and we do not have the resources to provide support.\n",
    "\n",
    "In this demo, we will:\n",
    "\n",
    "1. Given a set of Twitter hashtags and a date range, use OSoMe to retrieve the most active users in the conversation\n",
    "2. Check these active users' bot scores with BotOrNot\n",
    "3. Generate a distribution of bot scores like this one: ![example distribution](https://s3.amazonaws.com/clayadavis_public/active-users_election2016_2015-04-16_2015-04-28.png \"Histogram and kernel density estimate\")"
   ]
  },
  {
   "cell_type": "markdown",
   "metadata": {},
   "source": [
    "## Dependencies\n",
    "\n",
    "This notebook was written using Python 3.5 and tested for compatibility with Python 2.7. All Python dependencies are installable with `pip`. If you're using [Anaconda](https://docs.continuum.io/anaconda/install), you can probably just do\n",
    "\n",
    "    conda install seaborn\n",
    "\n",
    "and\n",
    "\n",
    "    pip install botornot\n",
    "\n",
    "from your command line.\n",
    "\n",
    "Once these packages have been installed, run the next cell to import the required modules."
   ]
  },
  {
   "cell_type": "code",
   "execution_count": 1,
   "metadata": {
    "collapsed": false
   },
   "outputs": [],
   "source": [
    "from __future__ import print_function, unicode_literals\n",
    "\n",
    "import datetime\n",
    "import json\n",
    "import re\n",
    "import time\n",
    "import traceback\n",
    "\n",
    "import botornot\n",
    "import pandas as pd\n",
    "%matplotlib inline\n",
    "import requests\n",
    "import seaborn as sns\n",
    "\n",
    "import matplotlib.pyplot as plt"
   ]
  },
  {
   "cell_type": "markdown",
   "metadata": {},
   "source": [
    "# 0. Enter authentication keys\n",
    "\n",
    "We are going to use APIs for Twitter and Mashape, so you need accounts for both.\n",
    "\n",
    "## 0.1 Twitter\n",
    "To get Twitter API keys, you need to define an app at [apps.twitter.com](https://apps.twitter.com/) or use one you've previously created. If you're creating a new app, the name, URL, etc. don't matter to this demo. \n",
    "\n",
    "Go into the app's properties by clicking on it, and then click on the \"Keys and Access Tokens\" tab. Your API keys should be inside, as illustrated here: ![twitter api keys](https://s3.amazonaws.com/clayadavis_public/twitter_api_keys.jpg \"Twitter API keys\")"
   ]
  },
  {
   "cell_type": "markdown",
   "metadata": {},
   "source": [
    "Copy your keys into the code below and execute the block."
   ]
  },
  {
   "cell_type": "code",
   "execution_count": 2,
   "metadata": {
    "collapsed": true
   },
   "outputs": [],
   "source": [
    "twitter_app_auth = {\n",
    "    'consumer_key': 'COPY_CONSUMER_KEY_HERE',\n",
    "    'consumer_secret': 'COPY_CONSUMER_SECRET_HERE',\n",
    "    'access_token': 'COPY_ACCESS_TOKEN_HERE',\n",
    "    'access_token_secret': 'COPY_ACCESS_TOKEN_SECRET_HERE',\n",
    "  }\n",
    "\n",
    "for api_key in twitter_app_auth.values(): \n",
    "    assert not api_key.startswith('COPY_')"
   ]
  },
  {
   "cell_type": "markdown",
   "metadata": {},
   "source": [
    "## 0.2 Mashape\n",
    "\n",
    "Once you have a Mashape account and are logged in, navigate to the [OSoMe API documentation](https://market.mashape.com/truthy/osome) and look at any of the examples on the right. Your key will be listed in the example request headers. Copy it into the code below and execute the block. Make sure not to include any closing quotation marks: ![mashape api key](https://s3.amazonaws.com/clayadavis_public/mashape_key.jpg \"Mashape API key\")"
   ]
  },
  {
   "cell_type": "code",
   "execution_count": 3,
   "metadata": {
    "collapsed": true
   },
   "outputs": [],
   "source": [
    "mashape_key = 'COPY_MASHAPE_KEY_HERE'\n",
    "\n",
    "assert not mashape_key.startswith('COPY_')"
   ]
  },
  {
   "cell_type": "markdown",
   "metadata": {},
   "source": [
    "# 1. Search OSoMe database using Mashape\n",
    "\n",
    "Enter one or more hashtags you're interested in searching below. The # sign is required, but hashtags are case-insensitive.\n",
    "\n",
    "Also enter the start and end dates for your search window. The more tweets returned by the search, the longer it takes to retrieve the result, so you may wish to start small (a few days). The maximum allowed date window is one month.\n",
    "\n",
    "Execute the block after entering your search parameters."
   ]
  },
  {
   "cell_type": "code",
   "execution_count": 4,
   "metadata": {
    "collapsed": true
   },
   "outputs": [],
   "source": [
    "hashtags = ['#election2016']\n",
    "start_date = datetime.date(2015, 4, 16) # year, month, day\n",
    "end_date   = datetime.date(2015, 4, 28)\n",
    "\n",
    "for hashtag in hashtags:\n",
    "    assert hashtag.startswith('#')"
   ]
  },
  {
   "cell_type": "markdown",
   "metadata": {},
   "source": [
    "The following Mashape request to begin the query should only take a second. The returned \"result_url\" will be used later to fetch the query results."
   ]
  },
  {
   "cell_type": "code",
   "execution_count": 5,
   "metadata": {
    "collapsed": false
   },
   "outputs": [
    {
     "name": "stdout",
     "output_type": "stream",
     "text": [
      "{\n",
      "   \"job_id\": \"c50cacaa-c41a-40cc-8de8-5efb273b533c\",\n",
      "   \"result_url\": \"http://osome.iuni.iu.edu/moe/api/mashape/result/c50cacaa-c41a-40cc-8de8-5efb273b533c\"\n",
      "}\n"
     ]
    }
   ],
   "source": [
    "mashape_method_url = 'https://osome-public.p.mashape.com/user-post-count'\n",
    "params = {\n",
    "    'q': ','.join(hashtags),\n",
    "    'start': start_date.isoformat(),\n",
    "    'end': end_date.isoformat(),\n",
    "}\n",
    "\n",
    "headers = {\n",
    "    'X-Mashape-Key': mashape_key,\n",
    "}\n",
    "\n",
    "mashape_response = requests.get(mashape_method_url, params=params, headers=headers)\n",
    "mashape_content = mashape_response.json()\n",
    "\n",
    "print(json.dumps(mashape_content, indent=3, sort_keys=True))\n",
    "result_url = mashape_content['result_url']   "
   ]
  },
  {
   "cell_type": "markdown",
   "metadata": {},
   "source": [
    "Execute the following block to retrieve the result. Depending on the number of tweets returned by the query, this may take several minutes. While it's running, an asterisk (\\*) will be displayed in the command number to the left of the block. If the block times out, just re-execute it. Once the query finishes, the result will be a file with a series of lines in this format:\n",
    "\n",
    "```\n",
    "<screen_name>(<user_id>)\\t<number_of_tweets>\n",
    "```\n",
    "\n",
    "The first few lines of this result will be displayed below. We will later sort this list by number of tweets to get the most active users."
   ]
  },
  {
   "cell_type": "code",
   "execution_count": 6,
   "metadata": {
    "collapsed": false
   },
   "outputs": [
    {
     "name": "stdout",
     "output_type": "stream",
     "text": [
      "11M_4Reform(2275531998)\t7\n",
      "17Veronicacejas(2351497414)\t1\n",
      "1964laura1(2572753525)\t1\n",
      "1KMurray(360229233)\t1\n",
      "1b9dce05f9f042e(2972323456)\t1\n",
      "1ropemonkey(1873943652)\t1\n",
      "281Salinas(2546635844)\t8\n",
      "2Dollars_Say(792642386)\t1\n",
      "3paulas(3028368907)\t1\n",
      "48Ramrez(2310771122)\t1\n",
      "\n"
     ]
    }
   ],
   "source": [
    "result_response = requests.get(result_url)\n",
    "print(result_response.text[:255])"
   ]
  },
  {
   "cell_type": "markdown",
   "metadata": {},
   "source": [
    "We want a separate column for each screen name, user id, and the number of tweets from the most active users. Executing the next block will extract what we want using a regular expression and store the results in a a tabular data structure, sorted in descending order of tweet number.\n",
    "\n",
    "After executing the block, the first few rows of the table will be displayed."
   ]
  },
  {
   "cell_type": "code",
   "execution_count": 7,
   "metadata": {
    "collapsed": false
   },
   "outputs": [
    {
     "data": {
      "text/html": [
       "<div>\n",
       "<table border=\"1\" class=\"dataframe\">\n",
       "  <thead>\n",
       "    <tr style=\"text-align: right;\">\n",
       "      <th></th>\n",
       "      <th>screen_name</th>\n",
       "      <th>tweets</th>\n",
       "    </tr>\n",
       "    <tr>\n",
       "      <th>user_id</th>\n",
       "      <th></th>\n",
       "      <th></th>\n",
       "    </tr>\n",
       "  </thead>\n",
       "  <tbody>\n",
       "    <tr>\n",
       "      <th>2358135572</th>\n",
       "      <td>ImmigrantNacion</td>\n",
       "      <td>59</td>\n",
       "    </tr>\n",
       "    <tr>\n",
       "      <th>2349494486</th>\n",
       "      <td>ImmigranNacion</td>\n",
       "      <td>55</td>\n",
       "    </tr>\n",
       "    <tr>\n",
       "      <th>347627434</th>\n",
       "      <td>LindaSuhler</td>\n",
       "      <td>16</td>\n",
       "    </tr>\n",
       "    <tr>\n",
       "      <th>2784752753</th>\n",
       "      <td>NJ_BLUE_</td>\n",
       "      <td>15</td>\n",
       "    </tr>\n",
       "    <tr>\n",
       "      <th>2863811408</th>\n",
       "      <td>immigrant1__</td>\n",
       "      <td>14</td>\n",
       "    </tr>\n",
       "  </tbody>\n",
       "</table>\n",
       "</div>"
      ],
      "text/plain": [
       "                screen_name  tweets\n",
       "user_id                            \n",
       "2358135572  ImmigrantNacion      59\n",
       "2349494486   ImmigranNacion      55\n",
       "347627434       LindaSuhler      16\n",
       "2784752753         NJ_BLUE_      15\n",
       "2863811408     immigrant1__      14"
      ]
     },
     "execution_count": 7,
     "metadata": {},
     "output_type": "execute_result"
    }
   ],
   "source": [
    "def extract_records(result_response):\n",
    "    result_pattern = r'(\\w+)\\((\\d+)\\)\\s+(\\d+)'\n",
    "    for line in result_response.text.split('\\n'):\n",
    "        match = re.match(result_pattern, line)\n",
    "        if match:\n",
    "            yield match.groups()\n",
    "\n",
    "table = pd.DataFrame.from_records(extract_records(result_response),\n",
    "                               columns=['screen_name', 'user_id', 'tweets'],\n",
    "                               index=['user_id'],\n",
    "                              )\n",
    "\n",
    "# from_records doesn't do type inference, so the tweets column gets parsed as a string\n",
    "table['tweets'] = table['tweets'].astype(int)\n",
    "table = table.sort_values(by='tweets', ascending=False)\n",
    "\n",
    "table.head()"
   ]
  },
  {
   "cell_type": "markdown",
   "metadata": {},
   "source": [
    "# 2. Compute bot scores\n",
    "\n",
    "First we need to do some setup. Execute the following block to initialize the BotOrNot API."
   ]
  },
  {
   "cell_type": "code",
   "execution_count": 8,
   "metadata": {
    "collapsed": false
   },
   "outputs": [],
   "source": [
    "bon = botornot.BotOrNot(**twitter_app_auth)\n",
    "api = bon.twitter_api"
   ]
  },
  {
   "cell_type": "markdown",
   "metadata": {},
   "source": [
    "We also need to add a column to our table for the calculated bot scores. Since we don't have these bot scores yet, these will appear as `NaN` below."
   ]
  },
  {
   "cell_type": "code",
   "execution_count": 9,
   "metadata": {
    "collapsed": false
   },
   "outputs": [
    {
     "data": {
      "text/html": [
       "<div>\n",
       "<table border=\"1\" class=\"dataframe\">\n",
       "  <thead>\n",
       "    <tr style=\"text-align: right;\">\n",
       "      <th></th>\n",
       "      <th>screen_name</th>\n",
       "      <th>tweets</th>\n",
       "      <th>bot_score</th>\n",
       "    </tr>\n",
       "    <tr>\n",
       "      <th>user_id</th>\n",
       "      <th></th>\n",
       "      <th></th>\n",
       "      <th></th>\n",
       "    </tr>\n",
       "  </thead>\n",
       "  <tbody>\n",
       "    <tr>\n",
       "      <th>2358135572</th>\n",
       "      <td>ImmigrantNacion</td>\n",
       "      <td>59</td>\n",
       "      <td>NaN</td>\n",
       "    </tr>\n",
       "    <tr>\n",
       "      <th>2349494486</th>\n",
       "      <td>ImmigranNacion</td>\n",
       "      <td>55</td>\n",
       "      <td>NaN</td>\n",
       "    </tr>\n",
       "    <tr>\n",
       "      <th>347627434</th>\n",
       "      <td>LindaSuhler</td>\n",
       "      <td>16</td>\n",
       "      <td>NaN</td>\n",
       "    </tr>\n",
       "    <tr>\n",
       "      <th>2784752753</th>\n",
       "      <td>NJ_BLUE_</td>\n",
       "      <td>15</td>\n",
       "      <td>NaN</td>\n",
       "    </tr>\n",
       "    <tr>\n",
       "      <th>2863811408</th>\n",
       "      <td>immigrant1__</td>\n",
       "      <td>14</td>\n",
       "      <td>NaN</td>\n",
       "    </tr>\n",
       "  </tbody>\n",
       "</table>\n",
       "</div>"
      ],
      "text/plain": [
       "                screen_name  tweets  bot_score\n",
       "user_id                                       \n",
       "2358135572  ImmigrantNacion      59        NaN\n",
       "2349494486   ImmigranNacion      55        NaN\n",
       "347627434       LindaSuhler      16        NaN\n",
       "2784752753         NJ_BLUE_      15        NaN\n",
       "2863811408     immigrant1__      14        NaN"
      ]
     },
     "execution_count": 9,
     "metadata": {},
     "output_type": "execute_result"
    }
   ],
   "source": [
    "table['bot_score'] = pd.np.nan\n",
    "table.head()"
   ]
  },
  {
   "cell_type": "markdown",
   "metadata": {},
   "source": [
    "We can check and make sure the BotOrNot API is working correctly by checking a known-human account. This will take a few seconds."
   ]
  },
  {
   "cell_type": "code",
   "execution_count": 10,
   "metadata": {
    "collapsed": false
   },
   "outputs": [
    {
     "data": {
      "text/plain": [
       "{'categories': {'content_classification': 0.21,\n",
       "  'friend_classification': 0.17,\n",
       "  'network_classification': 0.15,\n",
       "  'sentiment_classification': 0.18,\n",
       "  'temporal_classification': 0.54,\n",
       "  'user_classification': 0.18},\n",
       " 'meta': {'screen_name': 'clayadavis', 'user_id': '1548959833'},\n",
       " 'score': 0.24}"
      ]
     },
     "execution_count": 10,
     "metadata": {},
     "output_type": "execute_result"
    }
   ],
   "source": [
    "bon.check_account('@clayadavis')"
   ]
  },
  {
   "cell_type": "markdown",
   "metadata": {},
   "source": [
    "If that went smoothly, you will see a `'score'` field in the result. That is the bot score. Scores below 0.4 indicate human-like behavior and scores above 0.6 suggest bot-like behavior.\n",
    "\n",
    "Next we will do the same for the most active accounts from the list above. The `num_users_to_score` parameter will control how many accounts we'll check per execution of the following block. Each calculation takes 5-10 seconds, so keep this number reasonable at first. Also keep in mind the rate limits of both Twitter and BotOrNot: 180 requests per 15-minute period.\n",
    "\n",
    "Each execution of the following block will pick up where the previous execution left off; only `NaN` bot scores are updated. So feel free to interrupt execution and continue on if you get impatient, you can always come back and calculate more."
   ]
  },
  {
   "cell_type": "code",
   "execution_count": 11,
   "metadata": {
    "collapsed": false
   },
   "outputs": [
    {
     "name": "stdout",
     "output_type": "stream",
     "text": [
      "Checking 1 of 30, sn: ImmigrantNacion, id: 2358135572...\n",
      "    ...success!\n",
      "Checking 2 of 30, sn: ImmigranNacion, id: 2349494486...\n",
      "    ...success!\n",
      "Checking 3 of 30, sn: LindaSuhler, id: 347627434...\n",
      "    ...success!\n",
      "Checking 4 of 30, sn: NJ_BLUE_, id: 2784752753...\n",
      "    ...success!\n",
      "Checking 5 of 30, sn: immigrant1__, id: 2863811408...\n",
      "    ...success!\n",
      "Checking 6 of 30, sn: leonna24, id: 1965892106...\n",
      "    ...success!\n",
      "Checking 7 of 30, sn: _Immigrant__, id: 2704665782...\n",
      "    ...success!\n",
      "Checking 8 of 30, sn: AnadAguas, id: 1908173358...\n",
      "    ...success!\n",
      "Checking 9 of 30, sn: ImmigrationRef3, id: 2319910580...\n",
      "    ...success!\n",
      "Checking 10 of 30, sn: UsFassio, id: 3001576030...\n",
      "    ...success!\n",
      "Checking 11 of 30, sn: delfinaa7, id: 2304512363...\n",
      "    ...success!\n",
      "Checking 12 of 30, sn: stop_them_now_, id: 3001531955...\n",
      "    ...success!\n",
      "Checking 13 of 30, sn: hansel_gmail, id: 2252983828...\n",
      "    ...success!\n",
      "Checking 14 of 30, sn: orozcographics, id: 182954828...\n",
      "    ...success!\n",
      "Checking 15 of 30, sn: perez_marucha, id: 2305036525...\n",
      "    ...success!\n",
      "Checking 16 of 30, sn: FerCr13, id: 3061627566...\n",
      "    ...success!\n",
      "Checking 17 of 30, sn: Mel315dezert, id: 125060017...\n",
      "    ...success!\n",
      "Checking 18 of 30, sn: macaalanis3, id: 2737414309...\n",
      "    ...success!\n",
      "Checking 19 of 30, sn: Latinos4R, id: 2973152566...\n",
      "    ...success!\n",
      "Checking 20 of 30, sn: NJ_Vote, id: 2788434185...\n",
      "    ...success!\n",
      "Checking 21 of 30, sn: MariMg53, id: 2288507889...\n",
      "    ...success!\n",
      "Checking 22 of 30, sn: juareze368, id: 3158297652...\n",
      "    ...success!\n",
      "Checking 23 of 30, sn: Rosita012156, id: 2371028220...\n",
      "    ...success!\n",
      "Checking 24 of 30, sn: ViCky91708226, id: 2231739759...\n",
      "    ...success!\n",
      "Checking 25 of 30, sn: LatinosUnidos8, id: 2358873649...\n",
      "    ...success!\n",
      "Checking 26 of 30, sn: RosarioCardoza2, id: 2358140324...\n",
      "    ...success!\n",
      "Checking 27 of 30, sn: Esp_67, id: 2784710578...\n",
      "    ...success!\n",
      "Checking 28 of 30, sn: zarazuaaguas, id: 2319115834...\n",
      "    ...success!\n",
      "Checking 29 of 30, sn: Banfael, id: 410101714...\n",
      "    ...fail.\n",
      "Checking 30 of 30, sn: reform19, id: 2302702209...\n",
      "    ...success!\n",
      "Done checking 30 accounts.\n"
     ]
    }
   ],
   "source": [
    "num_users_to_score = 30\n",
    "unscored_rows = table[table['bot_score'].isnull()]\n",
    "rows_to_score = unscored_rows[:num_users_to_score]\n",
    "\n",
    "for num, (user_id, data) in enumerate(rows_to_score.iterrows()):\n",
    "    print(\"Checking {current} of {total}, sn: {sn}, id: {uid}...\".format(\n",
    "           current=num+1,\n",
    "           total=len(rows_to_score),\n",
    "           sn=data['screen_name'],\n",
    "           uid=user_id,\n",
    "    ))\n",
    "    retry = 0\n",
    "    while True:\n",
    "        try:\n",
    "            bon_result = bon.check_account(user_id)\n",
    "            table.ix[user_id, 'bot_score'] = bon_result['score']\n",
    "            print('    ...success!')\n",
    "        except botornot.tweepy.TweepError:\n",
    "            print('    ...fail.')\n",
    "        except requests.HTTPError:\n",
    "            secs = 2 ** retry\n",
    "            traceback.print_exc()\n",
    "            print('    ...error. Retrying in %i secs...' % secs)\n",
    "            retry += 1\n",
    "        if 0 < retry <= 3:\n",
    "            time.sleep(secs)\n",
    "        else:\n",
    "            break\n",
    "print(\"Done checking %i accounts.\" % num_users_to_score)\n",
    "            "
   ]
  },
  {
   "cell_type": "markdown",
   "metadata": {},
   "source": [
    "Executing the next block will display the top N accounts, sorted by number of tweets, with bot scores filled in."
   ]
  },
  {
   "cell_type": "code",
   "execution_count": 12,
   "metadata": {
    "collapsed": false
   },
   "outputs": [
    {
     "data": {
      "text/html": [
       "<div>\n",
       "<table border=\"1\" class=\"dataframe\">\n",
       "  <thead>\n",
       "    <tr style=\"text-align: right;\">\n",
       "      <th></th>\n",
       "      <th>screen_name</th>\n",
       "      <th>tweets</th>\n",
       "      <th>bot_score</th>\n",
       "    </tr>\n",
       "    <tr>\n",
       "      <th>user_id</th>\n",
       "      <th></th>\n",
       "      <th></th>\n",
       "      <th></th>\n",
       "    </tr>\n",
       "  </thead>\n",
       "  <tbody>\n",
       "    <tr>\n",
       "      <th>2358135572</th>\n",
       "      <td>ImmigrantNacion</td>\n",
       "      <td>59</td>\n",
       "      <td>0.63</td>\n",
       "    </tr>\n",
       "    <tr>\n",
       "      <th>2349494486</th>\n",
       "      <td>ImmigranNacion</td>\n",
       "      <td>55</td>\n",
       "      <td>0.51</td>\n",
       "    </tr>\n",
       "    <tr>\n",
       "      <th>347627434</th>\n",
       "      <td>LindaSuhler</td>\n",
       "      <td>16</td>\n",
       "      <td>0.49</td>\n",
       "    </tr>\n",
       "    <tr>\n",
       "      <th>2784752753</th>\n",
       "      <td>NJ_BLUE_</td>\n",
       "      <td>15</td>\n",
       "      <td>0.69</td>\n",
       "    </tr>\n",
       "    <tr>\n",
       "      <th>2863811408</th>\n",
       "      <td>immigrant1__</td>\n",
       "      <td>14</td>\n",
       "      <td>0.69</td>\n",
       "    </tr>\n",
       "    <tr>\n",
       "      <th>1965892106</th>\n",
       "      <td>leonna24</td>\n",
       "      <td>14</td>\n",
       "      <td>0.63</td>\n",
       "    </tr>\n",
       "    <tr>\n",
       "      <th>2704665782</th>\n",
       "      <td>_Immigrant__</td>\n",
       "      <td>13</td>\n",
       "      <td>0.75</td>\n",
       "    </tr>\n",
       "    <tr>\n",
       "      <th>1908173358</th>\n",
       "      <td>AnadAguas</td>\n",
       "      <td>13</td>\n",
       "      <td>0.75</td>\n",
       "    </tr>\n",
       "    <tr>\n",
       "      <th>2319910580</th>\n",
       "      <td>ImmigrationRef3</td>\n",
       "      <td>12</td>\n",
       "      <td>0.67</td>\n",
       "    </tr>\n",
       "    <tr>\n",
       "      <th>3001576030</th>\n",
       "      <td>UsFassio</td>\n",
       "      <td>12</td>\n",
       "      <td>0.58</td>\n",
       "    </tr>\n",
       "    <tr>\n",
       "      <th>2304512363</th>\n",
       "      <td>delfinaa7</td>\n",
       "      <td>12</td>\n",
       "      <td>0.73</td>\n",
       "    </tr>\n",
       "    <tr>\n",
       "      <th>3001531955</th>\n",
       "      <td>stop_them_now_</td>\n",
       "      <td>11</td>\n",
       "      <td>0.69</td>\n",
       "    </tr>\n",
       "    <tr>\n",
       "      <th>2252983828</th>\n",
       "      <td>hansel_gmail</td>\n",
       "      <td>11</td>\n",
       "      <td>0.63</td>\n",
       "    </tr>\n",
       "    <tr>\n",
       "      <th>182954828</th>\n",
       "      <td>orozcographics</td>\n",
       "      <td>11</td>\n",
       "      <td>0.67</td>\n",
       "    </tr>\n",
       "    <tr>\n",
       "      <th>2305036525</th>\n",
       "      <td>perez_marucha</td>\n",
       "      <td>11</td>\n",
       "      <td>0.66</td>\n",
       "    </tr>\n",
       "    <tr>\n",
       "      <th>3061627566</th>\n",
       "      <td>FerCr13</td>\n",
       "      <td>11</td>\n",
       "      <td>0.63</td>\n",
       "    </tr>\n",
       "    <tr>\n",
       "      <th>125060017</th>\n",
       "      <td>Mel315dezert</td>\n",
       "      <td>10</td>\n",
       "      <td>0.61</td>\n",
       "    </tr>\n",
       "    <tr>\n",
       "      <th>2737414309</th>\n",
       "      <td>macaalanis3</td>\n",
       "      <td>10</td>\n",
       "      <td>0.74</td>\n",
       "    </tr>\n",
       "    <tr>\n",
       "      <th>2973152566</th>\n",
       "      <td>Latinos4R</td>\n",
       "      <td>10</td>\n",
       "      <td>0.67</td>\n",
       "    </tr>\n",
       "    <tr>\n",
       "      <th>2788434185</th>\n",
       "      <td>NJ_Vote</td>\n",
       "      <td>10</td>\n",
       "      <td>0.69</td>\n",
       "    </tr>\n",
       "    <tr>\n",
       "      <th>2288507889</th>\n",
       "      <td>MariMg53</td>\n",
       "      <td>10</td>\n",
       "      <td>0.70</td>\n",
       "    </tr>\n",
       "    <tr>\n",
       "      <th>3158297652</th>\n",
       "      <td>juareze368</td>\n",
       "      <td>10</td>\n",
       "      <td>0.68</td>\n",
       "    </tr>\n",
       "    <tr>\n",
       "      <th>2371028220</th>\n",
       "      <td>Rosita012156</td>\n",
       "      <td>10</td>\n",
       "      <td>0.64</td>\n",
       "    </tr>\n",
       "    <tr>\n",
       "      <th>2231739759</th>\n",
       "      <td>ViCky91708226</td>\n",
       "      <td>10</td>\n",
       "      <td>0.72</td>\n",
       "    </tr>\n",
       "    <tr>\n",
       "      <th>2358873649</th>\n",
       "      <td>LatinosUnidos8</td>\n",
       "      <td>10</td>\n",
       "      <td>0.62</td>\n",
       "    </tr>\n",
       "    <tr>\n",
       "      <th>2358140324</th>\n",
       "      <td>RosarioCardoza2</td>\n",
       "      <td>9</td>\n",
       "      <td>0.67</td>\n",
       "    </tr>\n",
       "    <tr>\n",
       "      <th>2784710578</th>\n",
       "      <td>Esp_67</td>\n",
       "      <td>9</td>\n",
       "      <td>0.55</td>\n",
       "    </tr>\n",
       "    <tr>\n",
       "      <th>2319115834</th>\n",
       "      <td>zarazuaaguas</td>\n",
       "      <td>9</td>\n",
       "      <td>0.65</td>\n",
       "    </tr>\n",
       "    <tr>\n",
       "      <th>410101714</th>\n",
       "      <td>Banfael</td>\n",
       "      <td>9</td>\n",
       "      <td>NaN</td>\n",
       "    </tr>\n",
       "    <tr>\n",
       "      <th>2302702209</th>\n",
       "      <td>reform19</td>\n",
       "      <td>9</td>\n",
       "      <td>0.61</td>\n",
       "    </tr>\n",
       "  </tbody>\n",
       "</table>\n",
       "</div>"
      ],
      "text/plain": [
       "                screen_name  tweets  bot_score\n",
       "user_id                                       \n",
       "2358135572  ImmigrantNacion      59       0.63\n",
       "2349494486   ImmigranNacion      55       0.51\n",
       "347627434       LindaSuhler      16       0.49\n",
       "2784752753         NJ_BLUE_      15       0.69\n",
       "2863811408     immigrant1__      14       0.69\n",
       "1965892106         leonna24      14       0.63\n",
       "2704665782     _Immigrant__      13       0.75\n",
       "1908173358        AnadAguas      13       0.75\n",
       "2319910580  ImmigrationRef3      12       0.67\n",
       "3001576030         UsFassio      12       0.58\n",
       "2304512363        delfinaa7      12       0.73\n",
       "3001531955   stop_them_now_      11       0.69\n",
       "2252983828     hansel_gmail      11       0.63\n",
       "182954828    orozcographics      11       0.67\n",
       "2305036525    perez_marucha      11       0.66\n",
       "3061627566          FerCr13      11       0.63\n",
       "125060017      Mel315dezert      10       0.61\n",
       "2737414309      macaalanis3      10       0.74\n",
       "2973152566        Latinos4R      10       0.67\n",
       "2788434185          NJ_Vote      10       0.69\n",
       "2288507889         MariMg53      10       0.70\n",
       "3158297652       juareze368      10       0.68\n",
       "2371028220     Rosita012156      10       0.64\n",
       "2231739759    ViCky91708226      10       0.72\n",
       "2358873649   LatinosUnidos8      10       0.62\n",
       "2358140324  RosarioCardoza2       9       0.67\n",
       "2784710578           Esp_67       9       0.55\n",
       "2319115834     zarazuaaguas       9       0.65\n",
       "410101714           Banfael       9        NaN\n",
       "2302702209         reform19       9       0.61"
      ]
     },
     "execution_count": 12,
     "metadata": {},
     "output_type": "execute_result"
    }
   ],
   "source": [
    "table.head(30)"
   ]
  },
  {
   "cell_type": "markdown",
   "metadata": {},
   "source": [
    "Some of the bot scores may still be `NaN` if the account was deleted or blocked and we could not obtain a bot score; this is normal. \n",
    "\n",
    "The next block will create a histogram and its [kernel density estimate](https://en.wikipedia.org/wiki/Kernel_density_estimation) from the available bot scores, and save the image as a png in the current directory."
   ]
  },
  {
   "cell_type": "code",
   "execution_count": 13,
   "metadata": {
    "collapsed": false
   },
   "outputs": [
    {
     "data": {
      "image/png": "[encoded data removed]",
      "text/plain": [
       "<matplotlib.figure.Figure at 0x7fb3a00d5d68>"
      ]
     },
     "metadata": {},
     "output_type": "display_data"
    }
   ],
   "source": [
    "bot_scores = table[table['bot_score'].notnull()]['bot_score']\n",
    "sns.set(rc={\"figure.figsize\": (12, 6)})\n",
    "ax = sns.distplot(bot_scores)\n",
    "ax.set_title('Bot scores for top {N} most active accounts by number of tweets'\n",
    "             '\\ncontaining {hashtags} from {start} to {end}'.format(\n",
    "    N=len(bot_scores),\n",
    "    hashtags=', '.join(hashtags),\n",
    "    start=start_date.isoformat(),\n",
    "    end=end_date.isoformat(),\n",
    "    ))\n",
    "ax.set_xlim([0,1])\n",
    "ax.set_xlabel('Bot score')\n",
    "ax.yaxis.set_visible(False)\n",
    "ax.patch.set_visible(False)\n",
    "safe_hashtag_list = ','.join(hashtags).replace('#', '')\n",
    "filename = '_'.join(['active-users', safe_hashtag_list, start_date.isoformat(), end_date.isoformat()])\n",
    "plt.savefig(filename)"
   ]
  },
  {
   "cell_type": "markdown",
   "metadata": {},
   "source": [
    "Of course we can calculate any statistics we want of this series. Executing the following will print the mean and median of this distribution."
   ]
  },
  {
   "cell_type": "code",
   "execution_count": 14,
   "metadata": {
    "collapsed": false
   },
   "outputs": [
    {
     "name": "stdout",
     "output_type": "stream",
     "text": [
      "Mean: 0.65, median: 0.67\n"
     ]
    }
   ],
   "source": [
    "print(\"Mean: %0.2f, median: %0.2f\" % (bot_scores.mean(), bot_scores.median()))"
   ]
  },
  {
   "cell_type": "markdown",
   "metadata": {},
   "source": [
    "And that's it! This approach of chaining together APIs is extremely powerful, and there are many other combinations possible with the two APIs used here. Please tweet at [@TruthyAtIndiana](http://twitter.com/TruthyAtIndiana) or me ([@clayadavis](http://twitter.com/clayadavis)) if you found this mashup useful. "
   ]
  }
 ],
 "metadata": {
  "kernelspec": {
   "display_name": "Python 3",
   "language": "python",
   "name": "python3"
  },
  "language_info": {
   "codemirror_mode": {
    "name": "ipython",
    "version": 3
   },
   "file_extension": ".py",
   "mimetype": "text/x-python",
   "name": "python",
   "nbconvert_exporter": "python",
   "pygments_lexer": "ipython3",
   "version": "3.5.1"
  }
 },
 "nbformat": 4,
 "nbformat_minor": 0
}
